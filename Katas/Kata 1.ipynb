{
 "cells": [
  {
   "cell_type": "code",
   "execution_count": 7,
   "id": "7bcc8f13",
   "metadata": {},
   "outputs": [],
   "source": [
    "def balanced_num(number):\n",
    "    nums = [int(n) for n in str(number)]\n",
    "    if len(nums) <= 2:\n",
    "        return \"Balanced\"\n",
    "    elif len(nums) % 2 == 0:\n",
    "        if sum(nums[:len(nums)//2-1]) == sum(nums[len(nums)//2 + 1:]):\n",
    "            return \"Balanced\"\n",
    "        else:\n",
    "            return \"Not Balanced\"\n",
    "    else:\n",
    "        if sum(nums[:len(nums)//2]) == sum(nums[len(nums)//2 + 1:]):\n",
    "            return \"Balanced\"\n",
    "        else:\n",
    "            return \"Not Balanced\""
   ]
  },
  {
   "cell_type": "code",
   "execution_count": 8,
   "id": "5a3b3ea8",
   "metadata": {},
   "outputs": [
    {
     "data": {
      "text/plain": [
       "'Balanced'"
      ]
     },
     "execution_count": 8,
     "metadata": {},
     "output_type": "execute_result"
    }
   ],
   "source": [
    "balanced_num(4794)"
   ]
  },
  {
   "cell_type": "code",
   "execution_count": null,
   "id": "5219f7f2",
   "metadata": {},
   "outputs": [],
   "source": [
    "# Python3 program to check\n",
    "# if a number is\n",
    "# Balanced or not\n",
    "\n",
    "# Function to check whether N is\n",
    "# Balanced Number or not\n",
    "def balancednumber(s):\n",
    "\n",
    "\tleftsum = 0\n",
    "\trightsum = 0\n",
    "\n",
    "\t# Calculating the Leftsum\n",
    "\t# and rightSum simultaneously\n",
    "\tfor i in range(0, int(len(s) / 2)):\n",
    "\n",
    "\t\t# Typecasting each character\n",
    "\t\t# to integer and adding the\n",
    "\t\t# digit to respective sums\n",
    "\t\tleftsum = leftsum + int(s[i])\n",
    "\t\trightsum = (rightsum +\n",
    "\t\t\t\t\tint(s[len(s) - 1 - i]))\n",
    "\n",
    "\tif (leftsum == rightsum):\n",
    "\t\tprint(\"Balanced\", end = '\\n')\n",
    "\telse:\n",
    "\t\tprint(\"Not Balanced\", end = '\\n')\n",
    "\n",
    "# Driver Code\n",
    "s = \"12321\"\n",
    "\n",
    "# Function call\n",
    "balancednumber(s)"
   ]
  },
  {
   "cell_type": "code",
   "execution_count": 12,
   "id": "63759467",
   "metadata": {},
   "outputs": [
    {
     "ename": "NameError",
     "evalue": "name 'number' is not defined",
     "output_type": "error",
     "traceback": [
      "\u001b[0;31m---------------------------------------------------------------------------\u001b[0m",
      "\u001b[0;31mNameError\u001b[0m                                 Traceback (most recent call last)",
      "\u001b[0;32m<ipython-input-12-341de111cc4e>\u001b[0m in \u001b[0;36m<module>\u001b[0;34m\u001b[0m\n\u001b[1;32m      1\u001b[0m \u001b[0mlista\u001b[0m \u001b[0;34m=\u001b[0m \u001b[0;34m[\u001b[0m\u001b[0;34m]\u001b[0m\u001b[0;34m\u001b[0m\u001b[0;34m\u001b[0m\u001b[0m\n\u001b[0;32m----> 2\u001b[0;31m \u001b[0;32mfor\u001b[0m \u001b[0mi\u001b[0m \u001b[0;32min\u001b[0m \u001b[0mstr\u001b[0m\u001b[0;34m(\u001b[0m\u001b[0mnumber\u001b[0m\u001b[0;34m)\u001b[0m\u001b[0;34m:\u001b[0m\u001b[0;34m\u001b[0m\u001b[0;34m\u001b[0m\u001b[0m\n\u001b[0m\u001b[1;32m      3\u001b[0m     \u001b[0mlista\u001b[0m\u001b[0;34m.\u001b[0m\u001b[0mappend\u001b[0m\u001b[0;34m(\u001b[0m\u001b[0mi\u001b[0m\u001b[0;34m)\u001b[0m\u001b[0;34m\u001b[0m\u001b[0;34m\u001b[0m\u001b[0m\n",
      "\u001b[0;31mNameError\u001b[0m: name 'number' is not defined"
     ]
    }
   ],
   "source": [
    "lista = []\n",
    "for i in str(number):\n",
    "    lista.append(i)"
   ]
  },
  {
   "cell_type": "code",
   "execution_count": 10,
   "id": "d0af0c73",
   "metadata": {},
   "outputs": [
    {
     "data": {
      "text/plain": [
       "[]"
      ]
     },
     "execution_count": 10,
     "metadata": {},
     "output_type": "execute_result"
    }
   ],
   "source": [
    "lista"
   ]
  },
  {
   "cell_type": "code",
   "execution_count": null,
   "id": "dfb09946",
   "metadata": {},
   "outputs": [],
   "source": []
  }
 ],
 "metadata": {
  "kernelspec": {
   "display_name": "Python 3 (ipykernel)",
   "language": "python",
   "name": "python3"
  },
  "language_info": {
   "codemirror_mode": {
    "name": "ipython",
    "version": 3
   },
   "file_extension": ".py",
   "mimetype": "text/x-python",
   "name": "python",
   "nbconvert_exporter": "python",
   "pygments_lexer": "ipython3",
   "version": "3.7.11"
  }
 },
 "nbformat": 4,
 "nbformat_minor": 5
}
