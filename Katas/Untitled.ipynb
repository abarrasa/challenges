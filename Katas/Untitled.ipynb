{
 "cells": [
  {
   "cell_type": "code",
   "execution_count": null,
   "id": "1a127fa4",
   "metadata": {},
   "outputs": [],
   "source": [
    "Kata Class"
   ]
  },
  {
   "cell_type": "markdown",
   "id": "5825c4f6",
   "metadata": {},
   "source": [
    "la clase user tiene que tener 3 atributos y 3 métodos y genera un objeto que se llama como queramos. El atributo name es uns string, el balance tiene que ser integer y el checking account un boolean. \n",
    "El metodo wthdraw le resta el dinero al balance. el metodod check tiene los parametros usuario y cantidad, te revisa. y el ultimo metodo, que es add tiene como parametro cantidad, porque te dice el dinero a ingresar."
   ]
  },
  {
   "cell_type": "code",
   "execution_count": 34,
   "id": "ae5c6dc2",
   "metadata": {},
   "outputs": [],
   "source": [
    "class User(object):\n",
    "    def __init__(self, name, balance, checking_account):\n",
    "        self.name = name\n",
    "        self.balance = balance\n",
    "        self.checking_account = checking_account\n",
    "    def withdraw(self,amount):\n",
    "        if self.balance > amount:\n",
    "            self.balance -=amount\n",
    "        else:\n",
    "            raise ValueError(\"There is not enough money\")\n",
    "        return f'{self.name} has {self.balance}.'\n",
    "    def check(self,other_user,amount):\n",
    "        if not other_user.checking_account:\n",
    "            raise ValueError(\"checking_account is false\")\n",
    "        if other_user.balance > amount:\n",
    "            other_user.balance-=amount\n",
    "            self.balance+=amount\n",
    "        else:\n",
    "            raise ValueError(\"There is not enough money\")\n",
    "        return f'{self.name} has {self.balance} and {other_user.name} has {other_user.balance}.'\n",
    "    def add_cash(self,amount):\n",
    "        self.balance +=amount\n",
    "        return f'{self.name} has {self.balance}.'"
   ]
  },
  {
   "cell_type": "code",
   "execution_count": 35,
   "id": "2f1611ac",
   "metadata": {},
   "outputs": [],
   "source": [
    "Jeff = User('Jeff', 70, True)\n",
    "Joe = User('Joe', 70, False)"
   ]
  },
  {
   "cell_type": "code",
   "execution_count": 36,
   "id": "215b96f3",
   "metadata": {},
   "outputs": [
    {
     "data": {
      "text/plain": [
       "'Jeff has 68.'"
      ]
     },
     "execution_count": 36,
     "metadata": {},
     "output_type": "execute_result"
    }
   ],
   "source": [
    "Jeff.withdraw(2)"
   ]
  },
  {
   "cell_type": "code",
   "execution_count": 37,
   "id": "6fa11532",
   "metadata": {},
   "outputs": [
    {
     "data": {
      "text/plain": [
       "'Jeff has 88.'"
      ]
     },
     "execution_count": 37,
     "metadata": {},
     "output_type": "execute_result"
    }
   ],
   "source": [
    "Jeff.add_cash(20)"
   ]
  }
 ],
 "metadata": {
  "kernelspec": {
   "display_name": "Python [conda env:ironhack]",
   "language": "python",
   "name": "conda-env-ironhack-py"
  },
  "language_info": {
   "codemirror_mode": {
    "name": "ipython",
    "version": 3
   },
   "file_extension": ".py",
   "mimetype": "text/x-python",
   "name": "python",
   "nbconvert_exporter": "python",
   "pygments_lexer": "ipython3",
   "version": "3.7.11"
  }
 },
 "nbformat": 4,
 "nbformat_minor": 5
}
