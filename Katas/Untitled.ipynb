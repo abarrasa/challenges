{
 "cells": [
  {
   "cell_type": "code",
   "execution_count": null,
   "id": "3c426781",
   "metadata": {},
   "outputs": [],
   "source": [
    "Kata Class"
   ]
  },
  {
   "cell_type": "markdown",
   "id": "505bf725",
   "metadata": {},
   "source": [
    "la clase user tiene que tener 3 atributos y 3 métodos y genera un objeto que se llama como queramos. El atributo name es uns string, el balance tiene que ser integer y el checking account un boolean. \n",
    "El metodo wthdraw le resta el dinero al balance. el metodod check tiene los parametros usuario y cantidad, te revisa. y el ultimo metodo, que es add tiene como parametro cantidad, porque te dice el dinero a ingresar."
   ]
  },
  {
   "cell_type": "code",
   "execution_count": 28,
   "id": "4011d5db",
   "metadata": {},
   "outputs": [],
   "source": [
    "class User(object):\n",
    "    def __init__(self, name, balance, checking_account):\n",
    "        self.name = name\n",
    "        self.balance = balance\n",
    "        self.checking_account = checking_account\n",
    "        \n",
    "    def withdraw(self, amount):\n",
    "        if self.balance < amount:\n",
    "            raise ValueError (\"there is not enough balance\")\n",
    "        else:\n",
    "            self.balance = self.balance - amount\n",
    "   \n",
    "    def check(self, user, amount):\n",
    "        self.balance = self.balance + amount\n",
    "        \n",
    "    \n",
    "    \n",
    "    def check(self, user, amount):\n",
    "        self.balance = self.balance + amount"
   ]
  },
  {
   "cell_type": "code",
   "execution_count": 29,
   "id": "00b5267d",
   "metadata": {},
   "outputs": [],
   "source": [
    "Jeff = User('Jeff', 70, True)\n",
    "Joe = User('Joe', 70, False)"
   ]
  },
  {
   "cell_type": "code",
   "execution_count": 30,
   "id": "594e1c02",
   "metadata": {},
   "outputs": [
    {
     "ename": "ValueError",
     "evalue": "there is not enough balance",
     "output_type": "error",
     "traceback": [
      "\u001b[0;31m---------------------------------------------------------------------------\u001b[0m",
      "\u001b[0;31mValueError\u001b[0m                                Traceback (most recent call last)",
      "\u001b[0;32m/var/folders/v0/ywqslh_51dx3jnpnjr05wgsr0000gn/T/ipykernel_2656/1212356968.py\u001b[0m in \u001b[0;36m<module>\u001b[0;34m\u001b[0m\n\u001b[0;32m----> 1\u001b[0;31m \u001b[0mJeff\u001b[0m\u001b[0;34m.\u001b[0m\u001b[0mwithdraw\u001b[0m\u001b[0;34m(\u001b[0m\u001b[0;36m90\u001b[0m\u001b[0;34m)\u001b[0m\u001b[0;34m\u001b[0m\u001b[0;34m\u001b[0m\u001b[0m\n\u001b[0m",
      "\u001b[0;32m/var/folders/v0/ywqslh_51dx3jnpnjr05wgsr0000gn/T/ipykernel_2656/2845547274.py\u001b[0m in \u001b[0;36mwithdraw\u001b[0;34m(self, amount)\u001b[0m\n\u001b[1;32m      7\u001b[0m     \u001b[0;32mdef\u001b[0m \u001b[0mwithdraw\u001b[0m\u001b[0;34m(\u001b[0m\u001b[0mself\u001b[0m\u001b[0;34m,\u001b[0m \u001b[0mamount\u001b[0m\u001b[0;34m)\u001b[0m\u001b[0;34m:\u001b[0m\u001b[0;34m\u001b[0m\u001b[0;34m\u001b[0m\u001b[0m\n\u001b[1;32m      8\u001b[0m         \u001b[0;32mif\u001b[0m \u001b[0mself\u001b[0m\u001b[0;34m.\u001b[0m\u001b[0mbalance\u001b[0m \u001b[0;34m<\u001b[0m \u001b[0mamount\u001b[0m\u001b[0;34m:\u001b[0m\u001b[0;34m\u001b[0m\u001b[0;34m\u001b[0m\u001b[0m\n\u001b[0;32m----> 9\u001b[0;31m             \u001b[0;32mraise\u001b[0m \u001b[0mValueError\u001b[0m \u001b[0;34m(\u001b[0m\u001b[0;34m\"there is not enough balance\"\u001b[0m\u001b[0;34m)\u001b[0m\u001b[0;34m\u001b[0m\u001b[0;34m\u001b[0m\u001b[0m\n\u001b[0m\u001b[1;32m     10\u001b[0m         \u001b[0;32melse\u001b[0m\u001b[0;34m:\u001b[0m\u001b[0;34m\u001b[0m\u001b[0;34m\u001b[0m\u001b[0m\n\u001b[1;32m     11\u001b[0m             \u001b[0mself\u001b[0m\u001b[0;34m.\u001b[0m\u001b[0mbalance\u001b[0m \u001b[0;34m=\u001b[0m \u001b[0mself\u001b[0m\u001b[0;34m.\u001b[0m\u001b[0mbalance\u001b[0m \u001b[0;34m-\u001b[0m \u001b[0mamount\u001b[0m\u001b[0;34m\u001b[0m\u001b[0;34m\u001b[0m\u001b[0m\n",
      "\u001b[0;31mValueError\u001b[0m: there is not enough balance"
     ]
    }
   ],
   "source": [
    "Jeff.withdraw(90)"
   ]
  },
  {
   "cell_type": "code",
   "execution_count": 31,
   "id": "4b21b969",
   "metadata": {},
   "outputs": [
    {
     "name": "stdout",
     "output_type": "stream",
     "text": [
      "70\n"
     ]
    }
   ],
   "source": [
    "print(Jeff.balance)"
   ]
  },
  {
   "cell_type": "code",
   "execution_count": 34,
   "id": "0880e849",
   "metadata": {},
   "outputs": [],
   "source": [
    "class User(object):\n",
    "    def __init__(self, name, balance, checking_account):\n",
    "        self.name = name\n",
    "        self.balance = balance\n",
    "        self.checking_account = checking_account\n",
    "    def withdraw(self,amount):\n",
    "        if self.balance > amount:\n",
    "            self.balance -=amount\n",
    "        else:\n",
    "            raise ValueError(\"There is not enough money\")\n",
    "        return f'{self.name} has {self.balance}.'\n",
    "    def check(self,other_user,amount):\n",
    "        if not other_user.checking_account:\n",
    "            raise ValueError(\"checking_account is false\")\n",
    "        if other_user.balance > amount:\n",
    "            other_user.balance-=amount\n",
    "            self.balance+=amount\n",
    "        else:\n",
    "            raise ValueError(\"There is not enough money\")\n",
    "        return f'{self.name} has {self.balance} and {other_user.name} has {other_user.balance}.'\n",
    "    def add_cash(self,amount):\n",
    "        self.balance +=amount\n",
    "        return f'{self.name} has {self.balance}.'"
   ]
  },
  {
   "cell_type": "code",
   "execution_count": 35,
   "id": "66e0af76",
   "metadata": {},
   "outputs": [],
   "source": [
    "Jeff = User('Jeff', 70, True)\n",
    "Joe = User('Joe', 70, False)"
   ]
  },
  {
   "cell_type": "code",
   "execution_count": 36,
   "id": "98052e3f",
   "metadata": {},
   "outputs": [
    {
     "data": {
      "text/plain": [
       "'Jeff has 68.'"
      ]
     },
     "execution_count": 36,
     "metadata": {},
     "output_type": "execute_result"
    }
   ],
   "source": [
    "Jeff.withdraw(2)"
   ]
  },
  {
   "cell_type": "code",
   "execution_count": 37,
   "id": "ab45b949",
   "metadata": {},
   "outputs": [
    {
     "data": {
      "text/plain": [
       "'Jeff has 88.'"
      ]
     },
     "execution_count": 37,
     "metadata": {},
     "output_type": "execute_result"
    }
   ],
   "source": [
    "Jeff.add_cash(20)"
   ]
  },
  {
   "cell_type": "code",
   "execution_count": null,
   "id": "ece7532f",
   "metadata": {},
   "outputs": [],
   "source": []
  }
 ],
 "metadata": {
  "kernelspec": {
   "display_name": "Python [conda env:ironhack]",
   "language": "python",
   "name": "conda-env-ironhack-py"
  },
  "language_info": {
   "codemirror_mode": {
    "name": "ipython",
    "version": 3
   },
   "file_extension": ".py",
   "mimetype": "text/x-python",
   "name": "python",
   "nbconvert_exporter": "python",
   "pygments_lexer": "ipython3",
   "version": "3.7.11"
  }
 },
 "nbformat": 4,
 "nbformat_minor": 5
}
